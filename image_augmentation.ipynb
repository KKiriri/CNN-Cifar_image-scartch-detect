{
  "nbformat": 4,
  "nbformat_minor": 0,
  "metadata": {
    "colab": {
      "name": "image_augmentation.ipynb",
      "provenance": [],
      "collapsed_sections": [],
      "authorship_tag": "ABX9TyMlL66CCd4wfGKSTennebFD",
      "include_colab_link": true
    },
    "kernelspec": {
      "name": "python3",
      "display_name": "Python 3"
    }
  },
  "cells": [
    {
      "cell_type": "markdown",
      "metadata": {
        "id": "view-in-github",
        "colab_type": "text"
      },
      "source": [
        "<a href=\"https://colab.research.google.com/github/KKiriri/CNN-Cifar_image-scartch-detect/blob/master/image_augmentation.ipynb\" target=\"_parent\"><img src=\"https://colab.research.google.com/assets/colab-badge.svg\" alt=\"Open In Colab\"/></a>"
      ]
    },
    {
      "cell_type": "code",
      "metadata": {
        "id": "n44_RsAt9Rgv",
        "colab_type": "code",
        "colab": {
          "base_uri": "https://localhost:8080/",
          "height": 120
        },
        "outputId": "6db206f9-083b-45c3-a29e-b7b9d2746d74"
      },
      "source": [
        "import numpy as np \n",
        "import matplotlib.pyplot as plt\n",
        "import os\n",
        "import cv2\n",
        "import glob\n",
        "import random\n",
        "import numpy as np\n",
        "from tqdm import tqdm\n",
        "from google.colab.patches import cv2_imshow\n",
        "\n",
        "# MOUNT GOOGLE DRIVE TO READ YOUR MODEL FROM GOOGLE DRIVE\n",
        "from google.colab import drive\n",
        "drive.mount('/content/gdrive', force_remount = True)"
      ],
      "execution_count": 1,
      "outputs": [
        {
          "output_type": "stream",
          "text": [
            "Go to this URL in a browser: https://accounts.google.com/o/oauth2/auth?client_id=947318989803-6bn6qk8qdgf4n4g3pfee6491hc0brc4i.apps.googleusercontent.com&redirect_uri=urn%3aietf%3awg%3aoauth%3a2.0%3aoob&response_type=code&scope=email%20https%3a%2f%2fwww.googleapis.com%2fauth%2fdocs.test%20https%3a%2f%2fwww.googleapis.com%2fauth%2fdrive%20https%3a%2f%2fwww.googleapis.com%2fauth%2fdrive.photos.readonly%20https%3a%2f%2fwww.googleapis.com%2fauth%2fpeopleapi.readonly\n",
            "\n",
            "Enter your authorization code:\n",
            "··········\n",
            "Mounted at /content/gdrive\n"
          ],
          "name": "stdout"
        }
      ]
    },
    {
      "cell_type": "code",
      "metadata": {
        "id": "mU1NGSsn9XuP",
        "colab_type": "code",
        "colab": {
          "base_uri": "https://localhost:8080/",
          "height": 500
        },
        "outputId": "ad6c1e57-20a9-48ab-e31d-14273a88000f"
      },
      "source": [
        "\n",
        "for image_address in glob.glob('/content/gdrive/My Drive/Colab Notebooks/images/inputs/mlts_*'):\n",
        "    print(image_address)\n",
        "    img = cv2.imread(image_address, 0)\n",
        "    horiz_input=np.fliplr(img)\n",
        "    # left right flip\n",
        "    vert_input=np.flipud(img)\n",
        "    brightness90_img = (np.matrix(img)*0.9).astype(int)\n",
        "    brightness80_img = (np.matrix(img)*0.8).astype(int)\n",
        "\n",
        "\n",
        "    binary_mask_address = image_address.replace('inputs/mlts', 'outputs/label')\n",
        "    binary_mask = cv2.imread(binary_mask_address, 0)\n",
        "    horiz_mask=np.fliplr(binary_mask)\n",
        "    # left right flip\n",
        "    vert_mask=np.flipud(binary_mask)\n",
        "    # vertical flip\n",
        "\n",
        "\n",
        "    lraddr=image_address.replace('mlts_', 'mlts_lr_')\n",
        "    lroutput=binary_mask_address.replace('label_', 'label_lr_')\n",
        "    cv2.imwrite(lraddr, horiz_input)\n",
        "    cv2.imwrite(lroutput, horiz_mask)\n",
        "    vertaddr=image_address.replace('mlts_', 'mlts_ve_')\n",
        "    vertoutput=binary_mask_address.replace('label_', 'label_ve_')\n",
        "    cv2.imwrite(vertaddr, vert_input)\n",
        "    cv2.imwrite(vertoutput, vert_mask)\n",
        "\n",
        "    eightyaddr=image_address.replace('mlts_', 'mlts_80_')\n",
        "    eightyoutput=binary_mask_address.replace('label_', 'label_80_')\n",
        "    cv2.imwrite(eightyaddr, brightness90_img)\n",
        "    cv2.imwrite(eightyoutput, binary_mask)\n",
        "\n",
        "    nightyaddr=image_address.replace('mlts_', 'mlts_90_')\n",
        "    nightyoutput=binary_mask_address.replace('label_', 'label_90_')\n",
        "    cv2.imwrite(nightyaddr, brightness80_img)\n",
        "    cv2.imwrite(nightyoutput, binary_mask)   \n",
        "\n"
      ],
      "execution_count": 9,
      "outputs": [
        {
          "output_type": "stream",
          "text": [
            "/content/gdrive/My Drive/Colab Notebooks/images/inputs/mlts_014.png\n",
            "/content/gdrive/My Drive/Colab Notebooks/images/inputs/mlts_015.png\n",
            "/content/gdrive/My Drive/Colab Notebooks/images/inputs/mlts_016.png\n",
            "/content/gdrive/My Drive/Colab Notebooks/images/inputs/mlts_017.png\n",
            "/content/gdrive/My Drive/Colab Notebooks/images/inputs/mlts_030.png\n",
            "/content/gdrive/My Drive/Colab Notebooks/images/inputs/mlts_031.png\n",
            "/content/gdrive/My Drive/Colab Notebooks/images/inputs/mlts_032.png\n",
            "/content/gdrive/My Drive/Colab Notebooks/images/inputs/mlts_036.png\n",
            "/content/gdrive/My Drive/Colab Notebooks/images/inputs/mlts_037.png\n",
            "/content/gdrive/My Drive/Colab Notebooks/images/inputs/mlts_038.png\n",
            "/content/gdrive/My Drive/Colab Notebooks/images/inputs/mlts_039.png\n",
            "/content/gdrive/My Drive/Colab Notebooks/images/inputs/mlts_043.png\n",
            "/content/gdrive/My Drive/Colab Notebooks/images/inputs/mlts_044.png\n",
            "/content/gdrive/My Drive/Colab Notebooks/images/inputs/mlts_045.png\n",
            "/content/gdrive/My Drive/Colab Notebooks/images/inputs/mlts_050.png\n",
            "/content/gdrive/My Drive/Colab Notebooks/images/inputs/mlts_051.png\n",
            "/content/gdrive/My Drive/Colab Notebooks/images/inputs/mlts_052.png\n",
            "/content/gdrive/My Drive/Colab Notebooks/images/inputs/mlts_053.png\n",
            "/content/gdrive/My Drive/Colab Notebooks/images/inputs/mlts_066.png\n",
            "/content/gdrive/My Drive/Colab Notebooks/images/inputs/mlts_067.png\n",
            "/content/gdrive/My Drive/Colab Notebooks/images/inputs/mlts_068.png\n",
            "/content/gdrive/My Drive/Colab Notebooks/images/inputs/mlts_069.png\n",
            "/content/gdrive/My Drive/Colab Notebooks/images/inputs/mlts_078.png\n",
            "/content/gdrive/My Drive/Colab Notebooks/images/inputs/mlts_079.png\n",
            "/content/gdrive/My Drive/Colab Notebooks/images/inputs/mlts_080.png\n",
            "/content/gdrive/My Drive/Colab Notebooks/images/inputs/mlts_081.png\n",
            "/content/gdrive/My Drive/Colab Notebooks/images/inputs/mlts_082.png\n",
            "/content/gdrive/My Drive/Colab Notebooks/images/inputs/mlts_084.png\n",
            "/content/gdrive/My Drive/Colab Notebooks/images/inputs/mlts_085.png\n"
          ],
          "name": "stdout"
        }
      ]
    }
  ]
}