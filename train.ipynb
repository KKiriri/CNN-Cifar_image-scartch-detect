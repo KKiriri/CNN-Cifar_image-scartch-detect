{
  "nbformat": 4,
  "nbformat_minor": 0,
  "metadata": {
    "colab": {
      "name": "train.ipynb",
      "provenance": [],
      "toc_visible": true,
      "machine_shape": "hm",
      "include_colab_link": true
    },
    "kernelspec": {
      "name": "python3",
      "display_name": "Python 3"
    },
    "accelerator": "GPU"
  },
  "cells": [
    {
      "cell_type": "markdown",
      "metadata": {
        "id": "view-in-github",
        "colab_type": "text"
      },
      "source": [
        "<a href=\"https://colab.research.google.com/github/KKiriri/CNN-Cifar_image-scartch-detect/blob/master/train.ipynb\" target=\"_parent\"><img src=\"https://colab.research.google.com/assets/colab-badge.svg\" alt=\"Open In Colab\"/></a>"
      ]
    },
    {
      "cell_type": "code",
      "metadata": {
        "id": "ERNyNP9HtoZB",
        "colab_type": "code",
        "outputId": "e498be30-f28a-4742-b20c-b95daf45d717",
        "colab": {
          "base_uri": "https://localhost:8080/",
          "height": 163
        }
      },
      "source": [
        "%tensorflow_version 1.x\n",
        "import tensorflow\n",
        "import keras\n",
        "from keras.models import Sequential\n",
        "from keras.layers import Dense, Dropout, Flatten, Input\n",
        "from keras.layers import Conv2D, MaxPooling2D, UpSampling2D\n",
        "from keras import backend as K\n",
        "import numpy as np\n",
        "from sklearn.model_selection import train_test_split\n",
        "from keras.models import Model\n",
        "from keras.utils import plot_model\n",
        "from keras.callbacks import TensorBoard, ModelCheckpoint\n",
        "\n",
        "# MOUNT GOOGLE DRIVE TO READ YOUR MODEL FROM GOOGLE DRIVE\n",
        "from google.colab import drive\n",
        "drive.mount('/content/gdrive', force_remount = True)"
      ],
      "execution_count": 1,
      "outputs": [
        {
          "output_type": "stream",
          "text": [
            "TensorFlow 1.x selected.\n"
          ],
          "name": "stdout"
        },
        {
          "output_type": "stream",
          "text": [
            "Using TensorFlow backend.\n"
          ],
          "name": "stderr"
        },
        {
          "output_type": "stream",
          "text": [
            "Go to this URL in a browser: https://accounts.google.com/o/oauth2/auth?client_id=947318989803-6bn6qk8qdgf4n4g3pfee6491hc0brc4i.apps.googleusercontent.com&redirect_uri=urn%3aietf%3awg%3aoauth%3a2.0%3aoob&response_type=code&scope=email%20https%3a%2f%2fwww.googleapis.com%2fauth%2fdocs.test%20https%3a%2f%2fwww.googleapis.com%2fauth%2fdrive%20https%3a%2f%2fwww.googleapis.com%2fauth%2fdrive.photos.readonly%20https%3a%2f%2fwww.googleapis.com%2fauth%2fpeopleapi.readonly\n",
            "\n",
            "Enter your authorization code:\n",
            "··········\n",
            "Mounted at /content/gdrive\n"
          ],
          "name": "stdout"
        }
      ]
    },
    {
      "cell_type": "code",
      "metadata": {
        "id": "MqTJTUkwt074",
        "colab_type": "code",
        "outputId": "cab0e357-31cf-4650-9dac-86f26adfe91a",
        "colab": {
          "base_uri": "https://localhost:8080/",
          "height": 827
        }
      },
      "source": [
        "\n",
        "batch_size = 128\n",
        "epochs = 5\n",
        "\n",
        "# input image dimensions\n",
        "PATCH_SIZE = 32\n",
        "\n",
        "\n",
        "def load_data():\n",
        "    x = np.load('/content/gdrive/My Drive/Colab Notebooks/input.npy')\n",
        "    y = np.load('/content/gdrive/My Drive/Colab Notebooks/output.npy')\n",
        "    x = x.astype('float32') / 255.\n",
        "    y = y.astype('float32') / 255.\n",
        "    x = np.expand_dims(x, axis=-1)\n",
        "    y = np.expand_dims(y, axis=-1)\n",
        "\n",
        "    x_train, x_val, y_train, y_val = train_test_split(x, y, test_size=0.2, random_state=42)\n",
        "    print(x_train.shape, x_val.shape)\n",
        "\n",
        "    return x_train, x_val, y_train, y_val\n",
        "\n",
        "\n",
        "def get_model():\n",
        "    input_img = Input((PATCH_SIZE, PATCH_SIZE, 1))\n",
        "    conv1 = Conv2D(32, (9,9), activation='relu', padding='same')(input_img)\n",
        "    conv2 = Conv2D(64, (9,9), activation='relu', padding='same')(conv1)\n",
        "    conv2 = MaxPooling2D(pool_size=(2, 2))(conv2)\n",
        "    conv2 = Conv2D(128, (9,9), activation='relu', padding='same')(conv2)\n",
        "    upsampled_img = UpSampling2D(2)(conv2)\n",
        "    conv3 = Conv2D(1, (9,9), activation='sigmoid', padding='same')(upsampled_img)\n",
        "\n",
        "    model = Model(inputs=[input_img], outputs=[conv3])\n",
        "\n",
        "    return model\n",
        "\n",
        "\n",
        "x_train, x_val, y_train, y_val = load_data()\n",
        "\n",
        "cnn_model = get_model()\n",
        "cnn_model.compile(loss=keras.losses.binary_crossentropy,\n",
        "                  optimizer=keras.optimizers.Adadelta(),\n",
        "                  metrics=['accuracy','binary_crossentropy'])\n",
        "\n",
        "cnn_model.summary()\n",
        "plot_model(cnn_model, to_file='model.png') # might need to modify\n",
        "tb_callback = TensorBoard(log_dir='./Graph', histogram_freq=0, # might need to modify\n",
        "                          write_graph=True, write_images=True)\n",
        "\n",
        "checkpoint = ModelCheckpoint('/content/gdrive/My Drive/Colab Notebooks/model.h5', monitor='binary_crossentropy', verbose=1, save_best_only=True, mode='min')\n",
        "\n",
        "cnn_model.fit(x_train, y_train,\n",
        "              batch_size=batch_size,\n",
        "              epochs=epochs,\n",
        "              verbose=1,\n",
        "              validation_data=(x_val, y_val), callbacks=[tb_callback, checkpoint])\n"
      ],
      "execution_count": 5,
      "outputs": [
        {
          "output_type": "stream",
          "text": [
            "(209456, 32, 32, 1) (52364, 32, 32, 1)\n",
            "Model: \"model_4\"\n",
            "_________________________________________________________________\n",
            "Layer (type)                 Output Shape              Param #   \n",
            "=================================================================\n",
            "input_4 (InputLayer)         (None, 32, 32, 1)         0         \n",
            "_________________________________________________________________\n",
            "conv2d_13 (Conv2D)           (None, 32, 32, 32)        2624      \n",
            "_________________________________________________________________\n",
            "conv2d_14 (Conv2D)           (None, 32, 32, 64)        165952    \n",
            "_________________________________________________________________\n",
            "max_pooling2d_4 (MaxPooling2 (None, 16, 16, 64)        0         \n",
            "_________________________________________________________________\n",
            "conv2d_15 (Conv2D)           (None, 16, 16, 128)       663680    \n",
            "_________________________________________________________________\n",
            "up_sampling2d_4 (UpSampling2 (None, 32, 32, 128)       0         \n",
            "_________________________________________________________________\n",
            "conv2d_16 (Conv2D)           (None, 32, 32, 1)         10369     \n",
            "=================================================================\n",
            "Total params: 842,625\n",
            "Trainable params: 842,625\n",
            "Non-trainable params: 0\n",
            "_________________________________________________________________\n",
            "Train on 209456 samples, validate on 52364 samples\n",
            "Epoch 1/5\n",
            "209456/209456 [==============================] - 130s 621us/step - loss: 0.0624 - acc: 0.9877 - binary_crossentropy: 0.0624 - val_loss: 0.0618 - val_acc: 0.9875 - val_binary_crossentropy: 0.0618\n",
            "\n",
            "Epoch 00001: binary_crossentropy improved from inf to 0.06245, saving model to /content/gdrive/My Drive/Colab Notebooks/model.h5\n",
            "Epoch 2/5\n",
            "209456/209456 [==============================] - 128s 613us/step - loss: 0.0597 - acc: 0.9877 - binary_crossentropy: 0.0597 - val_loss: 0.0604 - val_acc: 0.9875 - val_binary_crossentropy: 0.0604\n",
            "\n",
            "Epoch 00002: binary_crossentropy improved from 0.06245 to 0.05971, saving model to /content/gdrive/My Drive/Colab Notebooks/model.h5\n",
            "Epoch 3/5\n",
            "209456/209456 [==============================] - 128s 612us/step - loss: 0.0593 - acc: 0.9877 - binary_crossentropy: 0.0593 - val_loss: 0.0600 - val_acc: 0.9875 - val_binary_crossentropy: 0.0600\n",
            "\n",
            "Epoch 00003: binary_crossentropy improved from 0.05971 to 0.05933, saving model to /content/gdrive/My Drive/Colab Notebooks/model.h5\n",
            "Epoch 4/5\n",
            "209456/209456 [==============================] - 129s 614us/step - loss: 0.0590 - acc: 0.9877 - binary_crossentropy: 0.0590 - val_loss: 0.0601 - val_acc: 0.9875 - val_binary_crossentropy: 0.0601\n",
            "\n",
            "Epoch 00004: binary_crossentropy improved from 0.05933 to 0.05897, saving model to /content/gdrive/My Drive/Colab Notebooks/model.h5\n",
            "Epoch 5/5\n",
            "209456/209456 [==============================] - 129s 616us/step - loss: 0.0588 - acc: 0.9877 - binary_crossentropy: 0.0588 - val_loss: 0.0595 - val_acc: 0.9875 - val_binary_crossentropy: 0.0595\n",
            "\n",
            "Epoch 00005: binary_crossentropy improved from 0.05897 to 0.05877, saving model to /content/gdrive/My Drive/Colab Notebooks/model.h5\n"
          ],
          "name": "stdout"
        },
        {
          "output_type": "execute_result",
          "data": {
            "text/plain": [
              "<keras.callbacks.History at 0x7f57d373ad68>"
            ]
          },
          "metadata": {
            "tags": []
          },
          "execution_count": 5
        }
      ]
    },
    {
      "cell_type": "markdown",
      "metadata": {
        "id": "LIUjhzmvvN9p",
        "colab_type": "text"
      },
      "source": [
        "# New Section"
      ]
    }
  ]
}