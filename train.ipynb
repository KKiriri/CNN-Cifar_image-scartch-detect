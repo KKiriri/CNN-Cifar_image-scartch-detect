{
  "nbformat": 4,
  "nbformat_minor": 0,
  "metadata": {
    "colab": {
      "name": "train.ipynb",
      "provenance": [],
      "collapsed_sections": [],
      "machine_shape": "hm",
      "include_colab_link": true
    },
    "kernelspec": {
      "name": "python3",
      "display_name": "Python 3"
    },
    "accelerator": "GPU"
  },
  "cells": [
    {
      "cell_type": "markdown",
      "metadata": {
        "id": "view-in-github",
        "colab_type": "text"
      },
      "source": [
        "<a href=\"https://colab.research.google.com/github/KKiriri/CNN-Cifar_image-scartch-detect/blob/master/train.ipynb\" target=\"_parent\"><img src=\"https://colab.research.google.com/assets/colab-badge.svg\" alt=\"Open In Colab\"/></a>"
      ]
    },
    {
      "cell_type": "code",
      "metadata": {
        "id": "ERNyNP9HtoZB",
        "colab_type": "code",
        "colab": {}
      },
      "source": [
        "%tensorflow_version 1.x\n",
        "import tensorflow\n",
        "import keras\n",
        "from keras.models import Sequential\n",
        "from keras.layers import Dense, Dropout, Flatten, Input\n",
        "from keras.layers import Conv2D, MaxPooling2D, UpSampling2D\n",
        "from keras import backend as K\n",
        "import numpy as np\n",
        "from sklearn.model_selection import train_test_split\n",
        "from keras.models import Model\n",
        "from keras.utils import plot_model\n",
        "from keras.callbacks import TensorBoard, ModelCheckpoint\n",
        "\n",
        "# MOUNT GOOGLE DRIVE TO READ YOUR MODEL FROM GOOGLE DRIVE\n",
        "from google.colab import drive\n",
        "drive.mount('/content/gdrive', force_remount = True)"
      ],
      "execution_count": 0,
      "outputs": []
    },
    {
      "cell_type": "code",
      "metadata": {
        "id": "MqTJTUkwt074",
        "colab_type": "code",
        "outputId": "a160b390-14aa-4910-a409-d78bbdbc05a3",
        "colab": {
          "base_uri": "https://localhost:8080/",
          "height": 933
        }
      },
      "source": [
        "\n",
        "batch_size = 128\n",
        "epochs = 7\n",
        "\n",
        "# input image dimensions\n",
        "PATCH_SIZE = 32\n",
        "\n",
        "\n",
        "def load_data():\n",
        "    x = np.load('/content/gdrive/My Drive/Colab Notebooks/images/input.npy')\n",
        "    y = np.load('/content/gdrive/My Drive/Colab Notebooks/images/output.npy')\n",
        "    x = x.astype('float32') / 255.\n",
        "    y = y.astype('float32') / 255.\n",
        "    x = np.expand_dims(x, axis=-1)\n",
        "    y = np.expand_dims(y, axis=-1)\n",
        "\n",
        "    x_train, x_val, y_train, y_val = train_test_split(x, y, test_size=0.2, random_state=42)\n",
        "    print(x_train.shape, x_val.shape)\n",
        "\n",
        "    return x_train, x_val, y_train, y_val\n",
        "\n",
        "def get_model():\n",
        "    input_img = Input((PATCH_SIZE, PATCH_SIZE, 1))\n",
        "    conv1 = Conv2D(32, (5,3), activation='relu', padding='same')(input_img)\n",
        "    conv2 = Conv2D(64, (5,3), activation='relu', padding='same')(conv1)\n",
        "    conv2 = MaxPooling2D(pool_size=(2, 2))(conv2)\n",
        "    conv3 = Conv2D(128, (5,3), activation='relu', padding='same')(conv2)\n",
        "    upsampled_img = UpSampling2D(2)(conv3)\n",
        "    flat = Flatten()(upsampled_img)\n",
        "    dense = Dense(1, activation = 'sigmoid',)(flat)\n",
        "    model = Model(inputs=[input_img], outputs=[dense])\n",
        "\n",
        "    return model\n",
        "\n",
        "x_train, x_val, y_train, y_val = load_data()\n",
        "\n",
        "cnn_model = get_model()\n",
        "cnn_model.compile(loss=keras.losses.binary_crossentropy,\n",
        "                  optimizer=keras.optimizers.Adadelta(),\n",
        "                  metrics=['accuracy','binary_crossentropy'])\n",
        "\n",
        "cnn_model.summary()\n",
        "plot_model(cnn_model, to_file='model.png') # might need to modify\n",
        "tb_callback = TensorBoard(log_dir='./Graph', histogram_freq=0, # might need to modify\n",
        "                          write_graph=True, write_images=True)\n",
        "\n",
        "checkpoint = ModelCheckpoint('/content/gdrive/My Drive/Colab Notebooks/images/model.h5', monitor='binary_crossentropy', verbose=1, save_best_only=True, mode='min')\n",
        "\n",
        "cnn_model.fit(x_train, y_train,\n",
        "              batch_size=batch_size,\n",
        "              epochs=epochs,\n",
        "              verbose=1,\n",
        "              validation_data=(x_val, y_val), callbacks=[tb_callback, checkpoint])\n"
      ],
      "execution_count": 3,
      "outputs": [
        {
          "output_type": "stream",
          "text": [
            "(83200, 32, 32, 1) (20800, 32, 32, 1)\n",
            "Model: \"model_2\"\n",
            "_________________________________________________________________\n",
            "Layer (type)                 Output Shape              Param #   \n",
            "=================================================================\n",
            "input_2 (InputLayer)         (None, 32, 32, 1)         0         \n",
            "_________________________________________________________________\n",
            "conv2d_4 (Conv2D)            (None, 32, 32, 32)        512       \n",
            "_________________________________________________________________\n",
            "conv2d_5 (Conv2D)            (None, 32, 32, 64)        30784     \n",
            "_________________________________________________________________\n",
            "max_pooling2d_2 (MaxPooling2 (None, 16, 16, 64)        0         \n",
            "_________________________________________________________________\n",
            "conv2d_6 (Conv2D)            (None, 16, 16, 128)       123008    \n",
            "_________________________________________________________________\n",
            "up_sampling2d_2 (UpSampling2 (None, 32, 32, 128)       0         \n",
            "_________________________________________________________________\n",
            "flatten_2 (Flatten)          (None, 131072)            0         \n",
            "_________________________________________________________________\n",
            "dense_2 (Dense)              (None, 1)                 131073    \n",
            "=================================================================\n",
            "Total params: 285,377\n",
            "Trainable params: 285,377\n",
            "Non-trainable params: 0\n",
            "_________________________________________________________________\n",
            "Train on 83200 samples, validate on 20800 samples\n",
            "Epoch 1/7\n",
            "83200/83200 [==============================] - 11s 132us/step - loss: 0.0653 - acc: 0.9874 - binary_crossentropy: 0.0653 - val_loss: 0.0638 - val_acc: 0.9877 - val_binary_crossentropy: 0.0638\n",
            "\n",
            "Epoch 00001: binary_crossentropy improved from inf to 0.06533, saving model to /content/gdrive/My Drive/Colab Notebooks/images/model.h5\n",
            "Epoch 2/7\n",
            "83200/83200 [==============================] - 11s 129us/step - loss: 0.0617 - acc: 0.9877 - binary_crossentropy: 0.0617 - val_loss: 0.0591 - val_acc: 0.9877 - val_binary_crossentropy: 0.0591\n",
            "\n",
            "Epoch 00002: binary_crossentropy improved from 0.06533 to 0.06173, saving model to /content/gdrive/My Drive/Colab Notebooks/images/model.h5\n",
            "Epoch 3/7\n",
            "83200/83200 [==============================] - 11s 131us/step - loss: 0.0596 - acc: 0.9877 - binary_crossentropy: 0.0596 - val_loss: 0.0571 - val_acc: 0.9877 - val_binary_crossentropy: 0.0571\n",
            "\n",
            "Epoch 00003: binary_crossentropy improved from 0.06173 to 0.05955, saving model to /content/gdrive/My Drive/Colab Notebooks/images/model.h5\n",
            "Epoch 4/7\n",
            "83200/83200 [==============================] - 11s 131us/step - loss: 0.0561 - acc: 0.9877 - binary_crossentropy: 0.0561 - val_loss: 0.0533 - val_acc: 0.9877 - val_binary_crossentropy: 0.0533\n",
            "\n",
            "Epoch 00004: binary_crossentropy improved from 0.05955 to 0.05609, saving model to /content/gdrive/My Drive/Colab Notebooks/images/model.h5\n",
            "Epoch 5/7\n",
            "83200/83200 [==============================] - 11s 129us/step - loss: 0.0529 - acc: 0.9877 - binary_crossentropy: 0.0529 - val_loss: 0.0541 - val_acc: 0.9877 - val_binary_crossentropy: 0.0541\n",
            "\n",
            "Epoch 00005: binary_crossentropy improved from 0.05609 to 0.05294, saving model to /content/gdrive/My Drive/Colab Notebooks/images/model.h5\n",
            "Epoch 6/7\n",
            "83200/83200 [==============================] - 11s 130us/step - loss: 0.0503 - acc: 0.9876 - binary_crossentropy: 0.0503 - val_loss: 0.0484 - val_acc: 0.9880 - val_binary_crossentropy: 0.0484\n",
            "\n",
            "Epoch 00006: binary_crossentropy improved from 0.05294 to 0.05026, saving model to /content/gdrive/My Drive/Colab Notebooks/images/model.h5\n",
            "Epoch 7/7\n",
            "83200/83200 [==============================] - 11s 129us/step - loss: 0.0494 - acc: 0.9877 - binary_crossentropy: 0.0494 - val_loss: 0.0471 - val_acc: 0.9878 - val_binary_crossentropy: 0.0471\n",
            "\n",
            "Epoch 00007: binary_crossentropy improved from 0.05026 to 0.04937, saving model to /content/gdrive/My Drive/Colab Notebooks/images/model.h5\n"
          ],
          "name": "stdout"
        },
        {
          "output_type": "execute_result",
          "data": {
            "text/plain": [
              "<keras.callbacks.History at 0x7f5a1a3ba390>"
            ]
          },
          "metadata": {
            "tags": []
          },
          "execution_count": 3
        }
      ]
    },
    {
      "cell_type": "markdown",
      "metadata": {
        "id": "LIUjhzmvvN9p",
        "colab_type": "text"
      },
      "source": [
        "# New Section"
      ]
    }
  ]
}