{
  "nbformat": 4,
  "nbformat_minor": 0,
  "metadata": {
    "colab": {
      "name": "validate.ipynb",
      "provenance": [],
      "collapsed_sections": [],
      "authorship_tag": "ABX9TyNWNuXLq8uyKzzQeJOB6RH8",
      "include_colab_link": true
    },
    "kernelspec": {
      "name": "python3",
      "display_name": "Python 3"
    }
  },
  "cells": [
    {
      "cell_type": "markdown",
      "metadata": {
        "id": "view-in-github",
        "colab_type": "text"
      },
      "source": [
        "<a href=\"https://colab.research.google.com/github/KKiriri/CNN-Cifar_image-scartch-detect/blob/master/validate.ipynb\" target=\"_parent\"><img src=\"https://colab.research.google.com/assets/colab-badge.svg\" alt=\"Open In Colab\"/></a>"
      ]
    },
    {
      "cell_type": "code",
      "metadata": {
        "id": "97V0SoelEJ7F",
        "colab_type": "code",
        "colab": {
          "base_uri": "https://localhost:8080/",
          "height": 35
        },
        "outputId": "6f4c6734-ab8e-4784-d719-1afd2b584a78"
      },
      "source": [
        "%tensorflow_version 1.x\n",
        "import keras\n",
        "from keras.datasets import mnist\n",
        "from keras.models import Sequential\n",
        "from keras import backend as K\n",
        "import numpy as np\n",
        "from keras.models import Model\n",
        "from keras.models import load_model\n",
        "from keras.utils import plot_model\n",
        "import cv2\n",
        "\n",
        "# MOUNT GOOGLE DRIVE TO READ YOUR MODEL FROM GOOGLE DRIVE\n",
        "from google.colab import drive\n",
        "drive.mount('/content/gdrive', force_remount = True)"
      ],
      "execution_count": 9,
      "outputs": [
        {
          "output_type": "stream",
          "text": [
            "Mounted at /content/gdrive\n"
          ],
          "name": "stdout"
        }
      ]
    },
    {
      "cell_type": "code",
      "metadata": {
        "id": "PH2LjQGCEGuA",
        "colab_type": "code",
        "colab": {
          "base_uri": "https://localhost:8080/",
          "height": 35
        },
        "outputId": "c5e48faa-66c0-4c4c-bf85-f5c1412e7d05"
      },
      "source": [
        "\n",
        "model = load_model('/content/gdrive/My Drive/Colab Notebooks/model.h5')\n",
        "plot_model(model, to_file='loaded_model.png')\n",
        "image = cv2.imread('/content/gdrive/My Drive/Colab Notebooks/mlts_103.png',0)\n",
        "#cv2.imwrite('scratch.png', image)\n",
        "\n",
        "scratch = np.zeros_like(image)\n",
        "# SET YOUR PATCH SIZE\n",
        "PATCH_SIZE = 32\n",
        "PATCH_SIZE_X = 32\n",
        "PATCH_SIZE_Y = 32\n",
        "# LOOP THOUGH THE IMAGE AND DIVIDE THE IMAGE INTO PATCHES TO USE THE MODEL\n",
        "for y in range(0, image.shape[0]-PATCH_SIZE_Y, PATCH_SIZE_Y):\n",
        "  for x in range(0, image.shape[1]-PATCH_SIZE_X, PATCH_SIZE_X):\n",
        "    # CROP THE PATCH\n",
        "    patch = image[y:y+PATCH_SIZE_Y, x:x+PATCH_SIZE_X]\n",
        "    # **** DEPENDS ON THE NORMALIZATION IN THE TRAINING TIME YOU SHOULD DO THE SAME NORMALIZATION TO THE TEST PATCH (FOR EXAMPLE \n",
        "    # MAYBE YOU JUST NEED TO DIVIDE IT BY 255.)\n",
        "    # PREPARE PATCH TO PASS IT THE MODEL\n",
        "    patch = np.reshape(patch.astype('float32')/255., (1, patch.shape[0], patch.shape[1], 1))\n",
        "    # GET MODEL PREDICTION\n",
        "    prediction = model.predict(patch)\n",
        "    #for i in range(len(prediction)):\n",
        "     # for j in range(len(prediction[0])):\n",
        "      #   print(prediction[i][j])\n",
        "    # THE PREDICTION IS A NUMPY ARRAY WHICH EACH ELEMENT SHOWS THE PROBABILITY OF BEING A SCRATCH CORRESPONDING TO THE PIXELS\n",
        "    # OF THE INPUT PATCH, SO YOU CAN THRESHOLD IT\n",
        "    prediction[prediction <= 0.045] = 0\n",
        "    prediction[prediction > 0.045] = 255\n",
        "    # CONVERT PREDICTION TO uint8\n",
        "    prediction = prediction.astype('uint8')\n",
        "    #for i in range(len(prediction)):\n",
        "      # for j in range(len(prediction[0])):\n",
        "        #  print(prediction[i][j])\n",
        "     #PUT THIS PREDICTION IN THE CORRESPONDING PLACE OF scratch MATRIX\n",
        "    reshapenp=np.reshape(prediction,(PATCH_SIZE_Y,PATCH_SIZE_X))\n",
        "    scratch[y:y+PATCH_SIZE_Y, x:x+PATCH_SIZE_X] = reshapenp\n",
        "    #for i in range(len(prediction)):\n",
        "    #    for j in range(len(prediction[i])):\n",
        "    #        scratch[y:y+PATCH_SIZE, x:x+PATCH_SIZE] = prediction[i][j]\n",
        "\n",
        "#for i in range(len(scratch)):\n",
        "#   for j in range(len(scratch[0])):\n",
        "#      print(scratch[i][j])\n",
        "\n",
        "# FINALLY YOU CAN SAVE SCRATCH AS AN IMAGE\n",
        "cv2.imwrite('/content/gdrive/My Drive/Colab Notebooks/scratch.png', scratch)\n"
      ],
      "execution_count": 18,
      "outputs": [
        {
          "output_type": "execute_result",
          "data": {
            "text/plain": [
              "True"
            ]
          },
          "metadata": {
            "tags": []
          },
          "execution_count": 18
        }
      ]
    }
  ]
}