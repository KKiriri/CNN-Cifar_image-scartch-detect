{
  "nbformat": 4,
  "nbformat_minor": 0,
  "metadata": {
    "colab": {
      "name": "createData.ipynb",
      "provenance": [],
      "collapsed_sections": [],
      "include_colab_link": true
    },
    "kernelspec": {
      "name": "python3",
      "display_name": "Python 3"
    },
    "accelerator": "GPU"
  },
  "cells": [
    {
      "cell_type": "markdown",
      "metadata": {
        "id": "view-in-github",
        "colab_type": "text"
      },
      "source": [
        "<a href=\"https://colab.research.google.com/github/KKiriri/CNN-Cifar_image-scartch-detect/blob/master/createData.ipynb\" target=\"_parent\"><img src=\"https://colab.research.google.com/assets/colab-badge.svg\" alt=\"Open In Colab\"/></a>"
      ]
    },
    {
      "cell_type": "code",
      "metadata": {
        "id": "eUM2_xAbksVf",
        "colab_type": "code",
        "outputId": "6c9a16dd-e3f6-494b-b036-39ecf7cc3a9c",
        "colab": {
          "base_uri": "https://localhost:8080/",
          "height": 120
        }
      },
      "source": [
        "import numpy as np \n",
        "import matplotlib.pyplot as plt\n",
        "import os\n",
        "import cv2\n",
        "import glob\n",
        "import random\n",
        "import numpy as np\n",
        "\n",
        "# MOUNT GOOGLE DRIVE TO READ YOUR MODEL FROM GOOGLE DRIVE\n",
        "from google.colab import drive\n",
        "drive.mount('/content/gdrive', force_remount = True)"
      ],
      "execution_count": 1,
      "outputs": [
        {
          "output_type": "stream",
          "text": [
            "Go to this URL in a browser: https://accounts.google.com/o/oauth2/auth?client_id=947318989803-6bn6qk8qdgf4n4g3pfee6491hc0brc4i.apps.googleusercontent.com&redirect_uri=urn%3aietf%3awg%3aoauth%3a2.0%3aoob&response_type=code&scope=email%20https%3a%2f%2fwww.googleapis.com%2fauth%2fdocs.test%20https%3a%2f%2fwww.googleapis.com%2fauth%2fdrive%20https%3a%2f%2fwww.googleapis.com%2fauth%2fdrive.photos.readonly%20https%3a%2f%2fwww.googleapis.com%2fauth%2fpeopleapi.readonly\n",
            "\n",
            "Enter your authorization code:\n",
            "··········\n",
            "Mounted at /content/gdrive\n"
          ],
          "name": "stdout"
        }
      ]
    },
    {
      "cell_type": "code",
      "metadata": {
        "id": "tmzbYg1Hl48u",
        "colab_type": "code",
        "outputId": "00d4327a-7731-4776-9cd6-a19a5487961b",
        "colab": {
          "base_uri": "https://localhost:8080/",
          "height": 500
        }
      },
      "source": [
        "from tqdm import tqdm\n",
        "from google.colab.patches import cv2_imshow\n",
        "\n",
        "# DATADIR = \"/content/gdrive/My Drive/Colab Notebooks/images/\"\n",
        "# CATEGORIES = [\"inputs\",\"outputs\"]\n",
        "\n",
        "PATCH_SIZE_X = 32\n",
        "PATCH_SIZE_Y = 32\n",
        "HALF_PATCH_X = int(PATCH_SIZE_X/2)\n",
        "HALF_PATCH_Y = int(PATCH_SIZE_Y/2)\n",
        "TOTAL_NUMBER = 2000 # expand from 60 * 33.75 -> 237 * 132 (Quarterize matching patch)\n",
        "\n",
        "input_patches = []\n",
        "output_patches = []\n",
        "for image_address in glob.glob('/content/gdrive/My Drive/Colab Notebooks/images/inputs/mlts_*'):\n",
        "    print(image_address)\n",
        "    img = cv2.imread(image_address, 0)\n",
        "    binary_mask_address = image_address.replace('inputs/mlts', 'outputs/label')\n",
        "    binary_mask = cv2.imread(binary_mask_address, 0)\n",
        "    binary_mask[binary_mask > 10] = 255\n",
        "    binary_mask[binary_mask <= 10] = 0\n",
        "\n",
        "    for num_data in range(TOTAL_NUMBER):\n",
        "        Scartch_Pixel=TOTAL_NUMBER/2\n",
        "        Normal_Pixel=TOTAL_NUMBER/2\n",
        "        x_random = random.randint(HALF_PATCH_X, img.shape[1] - HALF_PATCH_X - 1)\n",
        "        y_random = random.randint(HALF_PATCH_Y, img.shape[0] - HALF_PATCH_Y - 1)\n",
        "\n",
        "        if binary_mask[y_random,x_random]==255:\n",
        "          if Scartch_Pixel>0:\n",
        "            random_input_patch = img[y_random-HALF_PATCH_Y:y_random+HALF_PATCH_Y, x_random-HALF_PATCH_X:x_random+HALF_PATCH_X]\n",
        "            random_output_point = binary_mask[y_random,x_random]\n",
        "            input_patches.append(random_input_patch)\n",
        "            output_patches.append(random_output_point)\n",
        "            Scartch_Pixel-=1\n",
        "          else:\n",
        "            continue\n",
        "        elif binary_mask[y_random,x_random]==0:\n",
        "          if Normal_Pixel>0:\n",
        "            random_input_patch = img[y_random-HALF_PATCH_Y:y_random+HALF_PATCH_Y, x_random-HALF_PATCH_X:x_random+HALF_PATCH_X]\n",
        "            random_output_point = binary_mask[y_random,x_random]\n",
        "            input_patches.append(random_input_patch)\n",
        "            output_patches.append(random_output_point)\n",
        "            Normal_Pixel-=1\n",
        "          else:\n",
        "            continue\n",
        "            # normal pixel case\n",
        "\n",
        "          \n",
        "        if Scartch_Pixel==0 and Normal_Pixel==0:\n",
        "          break\n",
        "        \n",
        "\n",
        "input_patches = np.array(input_patches)\n",
        "output_patches = np.array(output_patches)\n",
        "\n",
        "\n",
        "\n",
        "\n",
        "np.save('/content/gdrive/My Drive/Colab Notebooks/images/input_filtered.npy', input_patches)\n",
        "np.save('/content/gdrive/My Drive/Colab Notebooks/images/output_filtered.npy', output_patches)\n",
        "\n"
      ],
      "execution_count": 2,
      "outputs": [
        {
          "output_type": "stream",
          "text": [
            "/content/gdrive/My Drive/Colab Notebooks/images/inputs/mlts_014.png\n",
            "/content/gdrive/My Drive/Colab Notebooks/images/inputs/mlts_015.png\n",
            "/content/gdrive/My Drive/Colab Notebooks/images/inputs/mlts_016.png\n",
            "/content/gdrive/My Drive/Colab Notebooks/images/inputs/mlts_017.png\n",
            "/content/gdrive/My Drive/Colab Notebooks/images/inputs/mlts_030.png\n",
            "/content/gdrive/My Drive/Colab Notebooks/images/inputs/mlts_031.png\n",
            "/content/gdrive/My Drive/Colab Notebooks/images/inputs/mlts_032.png\n",
            "/content/gdrive/My Drive/Colab Notebooks/images/inputs/mlts_036.png\n",
            "/content/gdrive/My Drive/Colab Notebooks/images/inputs/mlts_037.png\n",
            "/content/gdrive/My Drive/Colab Notebooks/images/inputs/mlts_038.png\n",
            "/content/gdrive/My Drive/Colab Notebooks/images/inputs/mlts_039.png\n",
            "/content/gdrive/My Drive/Colab Notebooks/images/inputs/mlts_043.png\n",
            "/content/gdrive/My Drive/Colab Notebooks/images/inputs/mlts_044.png\n",
            "/content/gdrive/My Drive/Colab Notebooks/images/inputs/mlts_045.png\n",
            "/content/gdrive/My Drive/Colab Notebooks/images/inputs/mlts_050.png\n",
            "/content/gdrive/My Drive/Colab Notebooks/images/inputs/mlts_051.png\n",
            "/content/gdrive/My Drive/Colab Notebooks/images/inputs/mlts_052.png\n",
            "/content/gdrive/My Drive/Colab Notebooks/images/inputs/mlts_053.png\n",
            "/content/gdrive/My Drive/Colab Notebooks/images/inputs/mlts_066.png\n",
            "/content/gdrive/My Drive/Colab Notebooks/images/inputs/mlts_067.png\n",
            "/content/gdrive/My Drive/Colab Notebooks/images/inputs/mlts_068.png\n",
            "/content/gdrive/My Drive/Colab Notebooks/images/inputs/mlts_069.png\n",
            "/content/gdrive/My Drive/Colab Notebooks/images/inputs/mlts_078.png\n",
            "/content/gdrive/My Drive/Colab Notebooks/images/inputs/mlts_079.png\n",
            "/content/gdrive/My Drive/Colab Notebooks/images/inputs/mlts_080.png\n",
            "/content/gdrive/My Drive/Colab Notebooks/images/inputs/mlts_081.png\n",
            "/content/gdrive/My Drive/Colab Notebooks/images/inputs/mlts_082.png\n",
            "/content/gdrive/My Drive/Colab Notebooks/images/inputs/mlts_084.png\n",
            "/content/gdrive/My Drive/Colab Notebooks/images/inputs/mlts_085.png\n"
          ],
          "name": "stdout"
        }
      ]
    },
    {
      "cell_type": "code",
      "metadata": {
        "id": "2zZTy-4nCmBe",
        "colab_type": "code",
        "outputId": "cf7efa71-2b0d-47d5-957f-1de11d420568",
        "colab": {
          "base_uri": "https://localhost:8080/",
          "height": 50
        }
      },
      "source": [
        "print(input_patches.shape)\n",
        "print(output_patches.shape)"
      ],
      "execution_count": 3,
      "outputs": [
        {
          "output_type": "stream",
          "text": [
            "(104000, 32, 32)\n",
            "(104000,)\n"
          ],
          "name": "stdout"
        }
      ]
    }
  ]
}