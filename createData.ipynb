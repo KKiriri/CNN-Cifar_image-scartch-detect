{
  "nbformat": 4,
  "nbformat_minor": 0,
  "metadata": {
    "colab": {
      "name": "createData.ipynb",
      "provenance": [],
      "collapsed_sections": [],
      "include_colab_link": true
    },
    "kernelspec": {
      "name": "python3",
      "display_name": "Python 3"
    },
    "accelerator": "GPU"
  },
  "cells": [
    {
      "cell_type": "markdown",
      "metadata": {
        "id": "view-in-github",
        "colab_type": "text"
      },
      "source": [
        "<a href=\"https://colab.research.google.com/github/KKiriri/CNN-Cifar_image-scartch-detect/blob/master/createData.ipynb\" target=\"_parent\"><img src=\"https://colab.research.google.com/assets/colab-badge.svg\" alt=\"Open In Colab\"/></a>"
      ]
    },
    {
      "cell_type": "code",
      "metadata": {
        "id": "eUM2_xAbksVf",
        "colab_type": "code",
        "outputId": "fc557403-5e2f-464a-bc2f-734bbea57667",
        "colab": {
          "base_uri": "https://localhost:8080/",
          "height": 127
        }
      },
      "source": [
        "import numpy as np \n",
        "import matplotlib.pyplot as plt\n",
        "import os\n",
        "import cv2\n",
        "import glob\n",
        "import numpy as np\n",
        "\n",
        "# MOUNT GOOGLE DRIVE TO READ YOUR MODEL FROM GOOGLE DRIVE\n",
        "from google.colab import drive\n",
        "drive.mount('/content/gdrive', force_remount = True)"
      ],
      "execution_count": 2,
      "outputs": [
        {
          "output_type": "stream",
          "text": [
            "Go to this URL in a browser: https://accounts.google.com/o/oauth2/auth?client_id=947318989803-6bn6qk8qdgf4n4g3pfee6491hc0brc4i.apps.googleusercontent.com&redirect_uri=urn%3aietf%3awg%3aoauth%3a2.0%3aoob&response_type=code&scope=email%20https%3a%2f%2fwww.googleapis.com%2fauth%2fdocs.test%20https%3a%2f%2fwww.googleapis.com%2fauth%2fdrive%20https%3a%2f%2fwww.googleapis.com%2fauth%2fdrive.photos.readonly%20https%3a%2f%2fwww.googleapis.com%2fauth%2fpeopleapi.readonly\n",
            "\n",
            "Enter your authorization code:\n",
            "··········\n",
            "Mounted at /content/gdrive\n"
          ],
          "name": "stdout"
        }
      ]
    },
    {
      "cell_type": "code",
      "metadata": {
        "id": "tmzbYg1Hl48u",
        "colab_type": "code",
        "colab": {}
      },
      "source": [
        "from tqdm import tqdm\n",
        "from google.colab.patches import cv2_imshow\n",
        "\n",
        "DATADIR = \"/content/gdrive/My Drive/Colab Notebooks/\"\n",
        "CATEGORIES = [\"inputs\",\"outputs\"]\n",
        "\n",
        "PATCH_SIZE = 32\n",
        "TOTAL_NUMBER = 300 # expand from 60 * 33.75 -> 237 * 132 (Quarterize matching patch)\n",
        "\n",
        "input_patches = []\n",
        "output_patches = []\n",
        "\n",
        "for category in CATEGORIES:\n",
        "    path = os.path.join(DATADIR,category)\n",
        "    if category == 'inputs':\n",
        "        patches = input_patches\n",
        "    elif category == 'outputs':\n",
        "        patches = output_patches\n",
        "\n",
        "    for image_address in os.listdir(path):\n",
        "        img = cv2.imread(os.path.join(path,image_address), cv2.IMREAD_GRAYSCALE)\n",
        "        if patches = output_patches:\n",
        "          img[img > 10] = 255\n",
        "          img[img <= 10] = 0\n",
        "\n",
        "        for xIncrement in range(0, img.shape[1] - PATCH_SIZE + 1, 20):\n",
        "            for yIncrement in range(0, img.shape[0] - PATCH_SIZE + 1, 20):\n",
        "                num_data = 0\n",
        "                patch = img[yIncrement:yIncrement + PATCH_SIZE, xIncrement:xIncrement + PATCH_SIZE]\n",
        "                # output_patch = outputImg[yIncrement:yIncrement + PATCH_SIZE, xIncrement:xIncrement + PATCH_SIZE]\n",
        "                patches.append(patch)\n",
        "\n",
        "# random method of generating patches\n",
        "        # for num_data in range(TOTAL_NUMBER):\n",
        "        #   x_random = random.randint(0, img.shape[1] - PATCH_SIZE - 1)\n",
        "        #   y_random = random.randint(0, img.shape[0] - PATCH_SIZE - 1)\n",
        "        #   random__patch = img[y_random:y_random+PATCH_SIZE, x_random:x_random+PATCH_SIZE]\n",
        "        #   if patches = output_patches:\n",
        "        #   input_patches.append(random_input_patch)\n",
        "        #   if patches = input_patches:\n",
        "        #   output_patches.append(random_output_patch)\n",
        "        #   print('Number of data: ', num_data)\n",
        "\n",
        "\n",
        "    if category == 'inputs':\n",
        "        input_patches = np.array(input_patches)\n",
        "    elif category == 'outputs':\n",
        "        output_patches = np.array(output_patches)\n",
        "# input_patches = np.array(input_patches)\n",
        "# # output_patches = np.array(output_patches)\n",
        "\n",
        "# # tester = glob.glob('./test/inputs')\n",
        "# # print(\"Testing is: \")\n",
        "# # print(os.listdir('/content/gdrive/My Drive/Colab Notebooks/train/inputs'))\n",
        "\n",
        "np.save('/content/gdrive/My Drive/Colab Notebooks/input.npy', input_patches)\n",
        "np.save('/content/gdrive/My Drive/Colab Notebooks/output.npy', output_patches)\n",
        "\n"
      ],
      "execution_count": 0,
      "outputs": []
    },
    {
      "cell_type": "code",
      "metadata": {
        "id": "2zZTy-4nCmBe",
        "colab_type": "code",
        "outputId": "09296f85-0041-4dc4-9790-cf99ad947991",
        "colab": {
          "base_uri": "https://localhost:8080/",
          "height": 53
        }
      },
      "source": [
        "print(input_patches.shape)\n",
        "print(output_patches.shape)"
      ],
      "execution_count": 4,
      "outputs": [
        {
          "output_type": "stream",
          "text": [
            "(261820, 32, 32)\n",
            "(261820, 32, 32)\n"
          ],
          "name": "stdout"
        }
      ]
    }
  ]
}