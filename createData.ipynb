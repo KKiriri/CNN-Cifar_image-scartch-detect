{
  "nbformat": 4,
  "nbformat_minor": 0,
  "metadata": {
    "colab": {
      "name": "createData.ipynb",
      "provenance": [],
      "collapsed_sections": [],
      "include_colab_link": true
    },
    "kernelspec": {
      "name": "python3",
      "display_name": "Python 3"
    },
    "accelerator": "GPU"
  },
  "cells": [
    {
      "cell_type": "markdown",
      "metadata": {
        "id": "view-in-github",
        "colab_type": "text"
      },
      "source": [
        "<a href=\"https://colab.research.google.com/github/KKiriri/CNN-Cifar_image-scartch-detect/blob/master/createData.ipynb\" target=\"_parent\"><img src=\"https://colab.research.google.com/assets/colab-badge.svg\" alt=\"Open In Colab\"/></a>"
      ]
    },
    {
      "cell_type": "code",
      "metadata": {
        "id": "eUM2_xAbksVf",
        "colab_type": "code",
        "outputId": "d691f8c3-3b29-4c7e-a9fa-18232cb3139c",
        "colab": {
          "base_uri": "https://localhost:8080/",
          "height": 127
        }
      },
      "source": [
        "import numpy as np \n",
        "import matplotlib.pyplot as plt\n",
        "import os\n",
        "import cv2\n",
        "import glob\n",
        "import random\n",
        "import numpy as np\n",
        "\n",
        "# MOUNT GOOGLE DRIVE TO READ YOUR MODEL FROM GOOGLE DRIVE\n",
        "from google.colab import drive\n",
        "drive.mount('/content/gdrive', force_remount = True)"
      ],
      "execution_count": 2,
      "outputs": [
        {
          "output_type": "stream",
          "text": [
            "Go to this URL in a browser: https://accounts.google.com/o/oauth2/auth?client_id=947318989803-6bn6qk8qdgf4n4g3pfee6491hc0brc4i.apps.googleusercontent.com&redirect_uri=urn%3aietf%3awg%3aoauth%3a2.0%3aoob&response_type=code&scope=email%20https%3a%2f%2fwww.googleapis.com%2fauth%2fdocs.test%20https%3a%2f%2fwww.googleapis.com%2fauth%2fdrive%20https%3a%2f%2fwww.googleapis.com%2fauth%2fdrive.photos.readonly%20https%3a%2f%2fwww.googleapis.com%2fauth%2fpeopleapi.readonly\n",
            "\n",
            "Enter your authorization code:\n",
            "··········\n",
            "Mounted at /content/gdrive\n"
          ],
          "name": "stdout"
        }
      ]
    },
    {
      "cell_type": "code",
      "metadata": {
        "id": "tmzbYg1Hl48u",
        "colab_type": "code",
        "colab": {
          "base_uri": "https://localhost:8080/",
          "height": 953
        },
        "outputId": "2f17266c-a45a-4dba-8714-e7273a43f313"
      },
      "source": [
        "from tqdm import tqdm\n",
        "from google.colab.patches import cv2_imshow\n",
        "\n",
        "# DATADIR = \"/content/gdrive/My Drive/Colab Notebooks/\"\n",
        "# CATEGORIES = [\"inputs\",\"outputs\"]\n",
        "\n",
        "PATCH_SIZE_X = 32\n",
        "PATCH_SIZE_Y = 32\n",
        "TOTAL_NUMBER = 2000 # expand from 60 * 33.75 -> 237 * 132 (Quarterize matching patch)\n",
        "\n",
        "input_patches = []\n",
        "output_patches = []\n",
        "for image_address in glob.glob('/content/gdrive/My Drive/Colab Notebooks/images/inputs/mlts_*'):\n",
        "    print(image_address)\n",
        "    img = cv2.imread(image_address, 0)\n",
        "    binary_mask_address = image_address.replace('inputs/mlts', 'outputs/label')\n",
        "    binary_mask = cv2.imread(binary_mask_address, 0)\n",
        "    binary_mask[binary_mask > 10] = 255\n",
        "    binary_mask[binary_mask <= 10] = 0\n",
        "\n",
        "    for num_data in range(TOTAL_NUMBER):\n",
        "        Scartch_Pixel=TOTAL_NUMBER/2\n",
        "        Normal_Pixel=TOTAL_NUMBER/2\n",
        "        x_random = random.randint(0, img.shape[1] - PATCH_SIZE_X - 1)\n",
        "        y_random = random.randint(0, img.shape[0] - PATCH_SIZE_Y - 1)\n",
        "        random_input_patch = img[y_random:y_random+PATCH_SIZE_Y, x_random:x_random+PATCH_SIZE_X]\n",
        "        random_output_patch = binary_mask[y_random:y_random+PATCH_SIZE_Y, x_random:x_random+PATCH_SIZE_X]\n",
        "        if (Scartch_Pixel>0 or Normal_Pixel>0):\n",
        "          if binary_mask[y_random,x_random]==255:\n",
        "            if Scartch_Pixel>0:\n",
        "              input_patches.append(random_input_patch)\n",
        "              output_patches.append(random_output_patch)\n",
        "              Scartch_Pixel-=1\n",
        "            else:\n",
        "              continue\n",
        "          elif binary_mask[y_random,x_random]==0:\n",
        "            if Normal_Pixel>0:\n",
        "              input_patches.append(random_input_patch)\n",
        "              output_patches.append(random_output_patch)\n",
        "              Normal_Pixel-=1\n",
        "            else:\n",
        "              continue\n",
        "            # normal pixel case\n",
        "\n",
        "          input_patches.append(random_input_patch)\n",
        "          output_patches.append(random_output_patch)\n",
        "          \n",
        "          \n",
        "          if Scartch_Pixel==0 and Normal_Pixel==0:\n",
        "            break\n",
        "        \n",
        "\n",
        "input_patches = np.array(input_patches)\n",
        "output_patches = np.array(output_patches)\n",
        "\n",
        "\n",
        "\n",
        "# for category in CATEGORIES:\n",
        "#     path = os.path.join(DATADIR,category)\n",
        "#     if category == 'inputs':\n",
        "#         patches = input_patches\n",
        "#     elif category == 'outputs':\n",
        "#         patches = output_patches\n",
        "\n",
        "#     for image_address in os.listdir(path):\n",
        "#         img = cv2.imread(os.path.join(path,image_address), cv2.IMREAD_GRAYSCALE)\n",
        "#         if patches = output_patches:\n",
        "#           img[img > 10] = 255\n",
        "#           img[img <= 10] = 0\n",
        "\n",
        "#         for xIncrement in range(0, img.shape[1] - PATCH_SIZE + 1, 20):\n",
        "#             for yIncrement in range(0, img.shape[0] - PATCH_SIZE + 1, 20):\n",
        "#                 num_data = 0\n",
        "#                 patch = img[yIncrement:yIncrement + PATCH_SIZE, xIncrement:xIncrement + PATCH_SIZE]\n",
        "#                 # output_patch = outputImg[yIncrement:yIncrement + PATCH_SIZE, xIncrement:xIncrement + PATCH_SIZE]\n",
        "#                 patches.append(patch)\n",
        "#     if category == 'inputs':\n",
        "#         input_patches = np.array(input_patches)\n",
        "#     elif category == 'outputs':\n",
        "#         output_patches = np.array(output_patches)\n",
        "\n",
        "\n",
        "\n",
        "\n",
        "np.save('/content/gdrive/My Drive/Colab Notebooks/images/input.npy', input_patches)\n",
        "np.save('/content/gdrive/My Drive/Colab Notebooks/images/output.npy', output_patches)\n",
        "\n"
      ],
      "execution_count": 11,
      "outputs": [
        {
          "output_type": "stream",
          "text": [
            "/content/gdrive/My Drive/Colab Notebooks/images/inputs/mlts_010.png\n",
            "/content/gdrive/My Drive/Colab Notebooks/images/inputs/mlts_011.png\n",
            "/content/gdrive/My Drive/Colab Notebooks/images/inputs/mlts_012.png\n",
            "/content/gdrive/My Drive/Colab Notebooks/images/inputs/mlts_013.png\n",
            "/content/gdrive/My Drive/Colab Notebooks/images/inputs/mlts_014.png\n",
            "/content/gdrive/My Drive/Colab Notebooks/images/inputs/mlts_015.png\n",
            "/content/gdrive/My Drive/Colab Notebooks/images/inputs/mlts_016.png\n",
            "/content/gdrive/My Drive/Colab Notebooks/images/inputs/mlts_017.png\n",
            "/content/gdrive/My Drive/Colab Notebooks/images/inputs/mlts_022.png\n",
            "/content/gdrive/My Drive/Colab Notebooks/images/inputs/mlts_023.png\n",
            "/content/gdrive/My Drive/Colab Notebooks/images/inputs/mlts_024.png\n",
            "/content/gdrive/My Drive/Colab Notebooks/images/inputs/mlts_025.png\n",
            "/content/gdrive/My Drive/Colab Notebooks/images/inputs/mlts_030.png\n",
            "/content/gdrive/My Drive/Colab Notebooks/images/inputs/mlts_031.png\n",
            "/content/gdrive/My Drive/Colab Notebooks/images/inputs/mlts_032.png\n",
            "/content/gdrive/My Drive/Colab Notebooks/images/inputs/mlts_036.png\n",
            "/content/gdrive/My Drive/Colab Notebooks/images/inputs/mlts_037.png\n",
            "/content/gdrive/My Drive/Colab Notebooks/images/inputs/mlts_038.png\n",
            "/content/gdrive/My Drive/Colab Notebooks/images/inputs/mlts_039.png\n",
            "/content/gdrive/My Drive/Colab Notebooks/images/inputs/mlts_040.png\n",
            "/content/gdrive/My Drive/Colab Notebooks/images/inputs/mlts_041.png\n",
            "/content/gdrive/My Drive/Colab Notebooks/images/inputs/mlts_042.png\n",
            "/content/gdrive/My Drive/Colab Notebooks/images/inputs/mlts_043.png\n",
            "/content/gdrive/My Drive/Colab Notebooks/images/inputs/mlts_044.png\n",
            "/content/gdrive/My Drive/Colab Notebooks/images/inputs/mlts_045.png\n",
            "/content/gdrive/My Drive/Colab Notebooks/images/inputs/mlts_046.png\n",
            "/content/gdrive/My Drive/Colab Notebooks/images/inputs/mlts_047.png\n",
            "/content/gdrive/My Drive/Colab Notebooks/images/inputs/mlts_048.png\n",
            "/content/gdrive/My Drive/Colab Notebooks/images/inputs/mlts_049.png\n",
            "/content/gdrive/My Drive/Colab Notebooks/images/inputs/mlts_050.png\n",
            "/content/gdrive/My Drive/Colab Notebooks/images/inputs/mlts_051.png\n",
            "/content/gdrive/My Drive/Colab Notebooks/images/inputs/mlts_052.png\n",
            "/content/gdrive/My Drive/Colab Notebooks/images/inputs/mlts_053.png\n",
            "/content/gdrive/My Drive/Colab Notebooks/images/inputs/mlts_054.png\n",
            "/content/gdrive/My Drive/Colab Notebooks/images/inputs/mlts_055.png\n",
            "/content/gdrive/My Drive/Colab Notebooks/images/inputs/mlts_056.png\n",
            "/content/gdrive/My Drive/Colab Notebooks/images/inputs/mlts_057.png\n",
            "/content/gdrive/My Drive/Colab Notebooks/images/inputs/mlts_058.png\n",
            "/content/gdrive/My Drive/Colab Notebooks/images/inputs/mlts_059.png\n",
            "/content/gdrive/My Drive/Colab Notebooks/images/inputs/mlts_060.png\n",
            "/content/gdrive/My Drive/Colab Notebooks/images/inputs/mlts_061.png\n",
            "/content/gdrive/My Drive/Colab Notebooks/images/inputs/mlts_066.png\n",
            "/content/gdrive/My Drive/Colab Notebooks/images/inputs/mlts_067.png\n",
            "/content/gdrive/My Drive/Colab Notebooks/images/inputs/mlts_068.png\n",
            "/content/gdrive/My Drive/Colab Notebooks/images/inputs/mlts_069.png\n",
            "/content/gdrive/My Drive/Colab Notebooks/images/inputs/mlts_078.png\n",
            "/content/gdrive/My Drive/Colab Notebooks/images/inputs/mlts_079.png\n",
            "/content/gdrive/My Drive/Colab Notebooks/images/inputs/mlts_080.png\n",
            "/content/gdrive/My Drive/Colab Notebooks/images/inputs/mlts_081.png\n",
            "/content/gdrive/My Drive/Colab Notebooks/images/inputs/mlts_082.png\n",
            "/content/gdrive/My Drive/Colab Notebooks/images/inputs/mlts_084.png\n",
            "/content/gdrive/My Drive/Colab Notebooks/images/inputs/mlts_085.png\n"
          ],
          "name": "stdout"
        }
      ]
    },
    {
      "cell_type": "code",
      "metadata": {
        "id": "2zZTy-4nCmBe",
        "colab_type": "code",
        "outputId": "a1e00477-4d5d-44f0-a1ae-5383a5203379",
        "colab": {
          "base_uri": "https://localhost:8080/",
          "height": 53
        }
      },
      "source": [
        "print(input_patches.shape)\n",
        "print(output_patches.shape)"
      ],
      "execution_count": 12,
      "outputs": [
        {
          "output_type": "stream",
          "text": [
            "(208000, 32, 32)\n",
            "(208000, 32, 32)\n"
          ],
          "name": "stdout"
        }
      ]
    }
  ]
}